{
 "cells": [
  {
   "cell_type": "markdown",
   "metadata": {},
   "source": [
    "# The BioHash: using biological agents to provide key hashing"
   ]
  },
  {
   "cell_type": "markdown",
   "metadata": {},
   "source": [
    "Public key cryptography, or asymmetric cryptography, is any cryptographic system that uses pairs of keys: public keys which may be disseminated widely, and private keys which are known only to the owner. \n",
    "\n",
    "Public key cryptography achieves two goals: \n",
    "\n",
    "1. **authentication**, which is when the public key is used to verify that a holder of the paired private key sent the message\n",
    "2. **encryption**, whereby only the holder of the paired private key can decrypt the message encrypted with the public key.\n",
    "\n",
    "The strength of a public key cryptography system relies on the degree of difficulty (computational impracticality) for a properly generated private key to be determined from its corresponding public key. Public key algorithms, unlike symmetric key algorithms, do not require a secure channel for the initial exchange of one (or more) secret keys between the parties.\n",
    "\n",
    "Public key cryptography systems often rely on cryptographic algorithms based on mathematical problems that currently admit no efficient solution—particularly those inherent in certain integer factorization, discrete logarithm, and elliptic curve relationships. This project seeks to increase the security of private keys and to publish public keys from personal signatures expressed publically. What?"
   ]
  },
  {
   "cell_type": "markdown",
   "metadata": {},
   "source": [
    "Key generators use large random numbers to generate the public and private keys. This project will use personal flora to provide these keys. "
   ]
  },
  {
   "cell_type": "markdown",
   "metadata": {},
   "source": [
    "Divide potential hashes into two groups: pubilcally availabe hashes and private hashes. Public personal information includes your name, address, and possibly your phone number. \n",
    "\n",
    "We might use parasitic \"public information\" sites to provide an individual's public key. For example, http://www.spokeo.com/Douglas-Goodwin/California/Los-Angeles/p1703297271. Or you might use some other publically available personal data such as fingerprints, scent, or DNA. \n",
    "\n",
    "Let's call this biohashing with key binding. "
   ]
  },
  {
   "cell_type": "code",
   "execution_count": null,
   "metadata": {
    "collapsed": true
   },
   "outputs": [],
   "source": []
  }
 ],
 "metadata": {
  "kernelspec": {
   "display_name": "Python 3",
   "language": "python",
   "name": "python3"
  },
  "language_info": {
   "codemirror_mode": {
    "name": "ipython",
    "version": 3
   },
   "file_extension": ".py",
   "mimetype": "text/x-python",
   "name": "python",
   "nbconvert_exporter": "python",
   "pygments_lexer": "ipython3",
   "version": "3.6.0"
  }
 },
 "nbformat": 4,
 "nbformat_minor": 2
}
