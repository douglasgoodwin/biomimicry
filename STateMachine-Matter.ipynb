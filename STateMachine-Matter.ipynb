{
 "cells": [
  {
   "cell_type": "markdown",
   "metadata": {
    "deletable": true,
    "editable": true
   },
   "source": [
    "# StateMachine -- Matter"
   ]
  },
  {
   "cell_type": "markdown",
   "metadata": {
    "deletable": true,
    "editable": true
   },
   "source": [
    "![](http://www.elementalmatter.info/images/phase-change.jpg)"
   ]
  },
  {
   "cell_type": "code",
   "execution_count": null,
   "metadata": {
    "collapsed": true,
    "deletable": true,
    "editable": true
   },
   "outputs": [],
   "source": [
    "from transitions import Machine"
   ]
  },
  {
   "cell_type": "code",
   "execution_count": null,
   "metadata": {
    "collapsed": false,
    "deletable": true,
    "editable": true
   },
   "outputs": [],
   "source": [
    "class Matter(object):\n",
    "    pass\n",
    "\n",
    "lump = Matter()\n",
    "\n",
    "# The states\n",
    "states=['solid', 'liquid', 'gas', 'plasma']\n",
    "\n",
    "# And some transitions between states. \n",
    "transitions = [\n",
    "    { 'trigger': 'melt', 'source': 'solid', 'dest': 'liquid' },\n",
    "    { 'trigger': 'evaporate', 'source': 'liquid', 'dest': 'gas' },\n",
    "    { 'trigger': 'sublimate', 'source': 'solid', 'dest': 'gas' },\n",
    "    { 'trigger': 'ionize', 'source': 'gas', 'dest': 'plasma' },\n",
    "    { 'trigger': 'freeze', 'source': 'liquid', 'dest': 'solid' },\n",
    "    { 'trigger': 'condense', 'source': 'gas', 'dest': 'liquid' },\n",
    "    { 'trigger': 'deionize', 'source': 'plasma', 'dest': 'gas' },\n",
    "    { 'trigger': 'deposition', 'source': 'gas', 'dest': 'solid' }\n",
    "]\n",
    "\n",
    "# Initialize\n",
    "machine = Machine(lump, \n",
    "                  states=states, \n",
    "                  transitions=transitions, \n",
    "                  initial='liquid')"
   ]
  },
  {
   "cell_type": "code",
   "execution_count": null,
   "metadata": {
    "collapsed": false,
    "deletable": true,
    "editable": true
   },
   "outputs": [],
   "source": [
    "# lump maintains state...\n",
    "lump.state"
   ]
  },
  {
   "cell_type": "code",
   "execution_count": null,
   "metadata": {
    "collapsed": false,
    "deletable": true,
    "editable": true
   },
   "outputs": [],
   "source": [
    "# And that state can change...\n",
    "lump.evaporate()\n",
    "lump.state"
   ]
  },
  {
   "cell_type": "code",
   "execution_count": null,
   "metadata": {
    "collapsed": false,
    "deletable": true,
    "editable": true
   },
   "outputs": [],
   "source": [
    "lump.trigger('ionize')\n",
    "lump.state"
   ]
  },
  {
   "cell_type": "code",
   "execution_count": null,
   "metadata": {
    "collapsed": false,
    "deletable": true,
    "editable": true
   },
   "outputs": [],
   "source": [
    "lump.state = 'gas'\n",
    "lump.trigger('condense')\n",
    "lump.state"
   ]
  },
  {
   "cell_type": "code",
   "execution_count": null,
   "metadata": {
    "collapsed": false,
    "deletable": true,
    "editable": true
   },
   "outputs": [],
   "source": [
    "lump.trigger('freeze')\n",
    "lump.state"
   ]
  },
  {
   "cell_type": "code",
   "execution_count": null,
   "metadata": {
    "collapsed": false,
    "deletable": true,
    "editable": true
   },
   "outputs": [],
   "source": [
    "lump.trigger('sublimate')\n",
    "lump.state"
   ]
  },
  {
   "cell_type": "code",
   "execution_count": null,
   "metadata": {
    "collapsed": true,
    "deletable": true,
    "editable": true
   },
   "outputs": [],
   "source": []
  }
 ],
 "metadata": {
  "kernelspec": {
   "display_name": "Python 3",
   "language": "python",
   "name": "python3"
  },
  "language_info": {
   "codemirror_mode": {
    "name": "ipython",
    "version": 3
   },
   "file_extension": ".py",
   "mimetype": "text/x-python",
   "name": "python",
   "nbconvert_exporter": "python",
   "pygments_lexer": "ipython3",
   "version": "3.6.0"
  }
 },
 "nbformat": 4,
 "nbformat_minor": 2
}
