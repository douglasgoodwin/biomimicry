{
 "cells": [
  {
   "cell_type": "markdown",
   "metadata": {
    "deletable": true,
    "editable": true
   },
   "source": [
    "## patterns: proxy, observer, command, facade\n",
    "\n",
    "# Structural Patterns: The Facade Pattern\n",
    "\n",
    "Imagine you have a system with a considerable number of objects. Every object is offering a rich set of API methods. You can do a lot of things with this system, but how about simplifying the interface? Why not add an interface object exposing a well thought-out subset of all API methods? A Facade!"
   ]
  },
  {
   "cell_type": "code",
   "execution_count": 27,
   "metadata": {
    "collapsed": true,
    "deletable": true,
    "editable": true
   },
   "outputs": [],
   "source": [
    "# these could be anywhere\n",
    "class Tire(object):\n",
    "    from random import randrange\n",
    "    \n",
    "    def __init__(self,name='spare'):\n",
    "        self.name = name\n",
    "        self.pressure = randrange(20, 40)\n",
    "\n",
    "class Tank(object):\n",
    "\n",
    "    def __init__(self,level=32):\n",
    "        self.level = level\n",
    "\n",
    "    def getFuelLevel(self):\n",
    "        return self.level\n",
    "\n",
    "    def setFuelLevel(self,):\n",
    "        return self.level        "
   ]
  },
  {
   "cell_type": "code",
   "execution_count": 28,
   "metadata": {
    "collapsed": true,
    "deletable": true,
    "editable": true
   },
   "outputs": [],
   "source": [
    "# Car is the facade, the Tire and Tank could be anything and have any complexity\n",
    "class Car(object):\n",
    "\n",
    "    def __init__(self):\n",
    "        self._tires = [Tire('front_left'),\n",
    "                             Tire('front_right'),\n",
    "                             Tire('rear_left'),\n",
    "                             Tire('rear_right'), ]\n",
    "        self._tank = Tank(70)\n",
    "\n",
    "    def getTirePressures(self):\n",
    "        return [tire.pressure for tire in self._tires]\n",
    "\n"
   ]
  },
  {
   "cell_type": "code",
   "execution_count": 33,
   "metadata": {
    "collapsed": false,
    "deletable": true,
    "editable": true
   },
   "outputs": [],
   "source": [
    "ford = Car()"
   ]
  },
  {
   "cell_type": "code",
   "execution_count": 34,
   "metadata": {
    "collapsed": false,
    "deletable": true,
    "editable": true
   },
   "outputs": [
    {
     "data": {
      "text/plain": [
       "70"
      ]
     },
     "execution_count": 34,
     "metadata": {},
     "output_type": "execute_result"
    }
   ],
   "source": [
    "ford.fuel_level()"
   ]
  },
  {
   "cell_type": "code",
   "execution_count": 35,
   "metadata": {
    "collapsed": false,
    "deletable": true,
    "editable": true
   },
   "outputs": [
    {
     "data": {
      "text/plain": [
       "[23, 21, 33, 21]"
      ]
     },
     "execution_count": 35,
     "metadata": {},
     "output_type": "execute_result"
    }
   ],
   "source": [
    "ford.tires_pressure()"
   ]
  },
  {
   "cell_type": "code",
   "execution_count": null,
   "metadata": {
    "collapsed": true,
    "deletable": true,
    "editable": true
   },
   "outputs": [],
   "source": []
  }
 ],
 "metadata": {
  "kernelspec": {
   "display_name": "Python 3",
   "language": "python",
   "name": "python3"
  },
  "language_info": {
   "codemirror_mode": {
    "name": "ipython",
    "version": 3
   },
   "file_extension": ".py",
   "mimetype": "text/x-python",
   "name": "python",
   "nbconvert_exporter": "python",
   "pygments_lexer": "ipython3",
   "version": "3.6.0"
  }
 },
 "nbformat": 4,
 "nbformat_minor": 2
}
