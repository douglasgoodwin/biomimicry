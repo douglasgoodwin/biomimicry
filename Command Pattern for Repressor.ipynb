{
 "cells": [
  {
   "cell_type": "markdown",
   "metadata": {},
   "source": [
    "# Repressor expressed as Command Pattern"
   ]
  },
  {
   "cell_type": "markdown",
   "metadata": {},
   "source": [
    "## review\n",
    "\n",
    "The **command pattern** is a behavioral design pattern in which an object is used to encapsulate all information needed to perform an action or trigger an event at a later time. This information includes the method name, the object that owns the method and values for the method parameters.\n",
    "\n",
    "Four terms always associated with the command pattern are **command**, **receiver**, **invoker** and **client**."
   ]
  },
  {
   "cell_type": "markdown",
   "metadata": {},
   "source": [
    "## review 2\n",
    "\n",
    "A **repressor** is a DNA- or RNA-binding protein that *inhibits the expression* of one or more genes by binding to the operator or associated silencers. \n",
    "\n",
    "For example, a DNA-binding repressor blocks the attachment of RNA polymerase to the promoter, thus preventing transcription of the genes into messenger RNA.\n",
    "\n",
    "This blocking of expression is called repression."
   ]
  },
  {
   "cell_type": "markdown",
   "metadata": {},
   "source": [
    "![repressor](https://upload.wikimedia.org/wikipedia/commons/thumb/2/22/Lac_Operon.svg/300px-Lac_Operon.svg.png)\n",
    "\n",
    "The lac operon: 1: RNA Polymerase, 2: lac repressor, 3: Promoter, 4: Operator, 5: Lactose, 6: lacZ, 7: lacY, 8: lacA. \n",
    "\n",
    "Top: The gene is essentially turned off. There is no lactose to inhibit the repressor, so the repressor binds to the operator, which obstructs the RNA polymerase from binding to the promoter and making lactase. \n",
    "\n",
    "Bottom: The gene is turned on. Lactose is inhibiting the repressor, allowing the RNA polymerase to bind with the promoter, and express the genes, which synthesize lactase. Eventually, the lactase will digest all of the lactose, until there is none to bind to the repressor. The repressor will then bind to the operator, stopping the manufacture of lactase."
   ]
  },
  {
   "cell_type": "code",
   "execution_count": 5,
   "metadata": {
    "collapsed": true
   },
   "outputs": [],
   "source": [
    "class Command(object):\n",
    "    \"\"\"The COMMAND interface\"\"\"\n",
    "    def __init__(self, obj):\n",
    "        self._obj = obj\n",
    "\n",
    "    def execute(self):\n",
    "        raise NotImplementedError\n",
    "\n",
    "class Switch(object):\n",
    "    \"\"\"The INVOKER class\"\"\"\n",
    "    def __init__(self):\n",
    "        self._history = ()\n",
    "\n",
    "    @property\n",
    "    def history(self):\n",
    "        return self._history\n",
    "\n",
    "    def execute(self, command):\n",
    "        self._history = self._history + (command,)\n",
    "        command.execute()\n",
    "        \n",
    "class TurnOnCommand(Command):\n",
    "    \"\"\"COMMAND the REPRESSOR to inhibit a GENE to express a PROTEIN\"\"\"\n",
    "    def execute(self):\n",
    "        self._obj.repress()\n",
    "    def __repr__(self):\n",
    "        return \"REPRESS\"\n",
    "\n",
    "class TurnOffCommand(Command):\n",
    "    \"\"\"COMMAND the REPRESSOR to allow a GENE to express a PROTEIN\"\"\"\n",
    "    def execute(self):\n",
    "        self._obj.express()\n",
    "    def __repr__(self):\n",
    "        return \"EXPRESS\"\n",
    "\n",
    "class Gene(object):\n",
    "    \"\"\"The RECEIVER class\"\"\"\n",
    "    def repress(self):\n",
    "        print(\"I am repressed!\")\n",
    "\n",
    "    def express(self):\n",
    "        print(\"I express!\")"
   ]
  },
  {
   "cell_type": "code",
   "execution_count": 6,
   "metadata": {
    "collapsed": true
   },
   "outputs": [],
   "source": [
    "class GeneSwitchClient(object):\n",
    "    \"\"\"The CLIENT class\"\"\"\n",
    "    def __init__(self):\n",
    "        self._gene = Gene()\n",
    "        self._switch = Switch()\n",
    "\n",
    "    @property\n",
    "    def switch(self):\n",
    "        return self._switch\n",
    "\n",
    "    def press(self, cmd):\n",
    "        cmd = cmd.strip().upper()\n",
    "        if cmd == \"REPRESS\":\n",
    "            self._switch.execute(TurnOnCommand(self._gene))\n",
    "        elif cmd == \"EXPRESS\":\n",
    "            self._switch.execute(TurnOffCommand(self._gene))\n",
    "        else:\n",
    "            print(\"Argument 'ON' or 'OFF' is required.\")"
   ]
  },
  {
   "cell_type": "code",
   "execution_count": 7,
   "metadata": {
    "collapsed": true
   },
   "outputs": [],
   "source": [
    "gene_switch = GeneSwitchClient()"
   ]
  },
  {
   "cell_type": "code",
   "execution_count": 10,
   "metadata": {
    "collapsed": false
   },
   "outputs": [
    {
     "name": "stdout",
     "output_type": "stream",
     "text": [
      "I am repressed!\n",
      "I express!\n"
     ]
    }
   ],
   "source": [
    "gene_switch.press(\"REPRESS\")\n",
    "gene_switch.press(\"EXPRESS\")"
   ]
  },
  {
   "cell_type": "code",
   "execution_count": 12,
   "metadata": {
    "collapsed": false
   },
   "outputs": [
    {
     "data": {
      "text/plain": [
       "(REPRESS, EXPRESS, REPRESS, EXPRESS)"
      ]
     },
     "execution_count": 12,
     "metadata": {},
     "output_type": "execute_result"
    }
   ],
   "source": [
    "gene_switch.switch.history"
   ]
  }
 ],
 "metadata": {
  "kernelspec": {
   "display_name": "Python 3",
   "language": "python",
   "name": "python3"
  },
  "language_info": {
   "codemirror_mode": {
    "name": "ipython",
    "version": 3
   },
   "file_extension": ".py",
   "mimetype": "text/x-python",
   "name": "python",
   "nbconvert_exporter": "python",
   "pygments_lexer": "ipython3",
   "version": "3.6.0"
  }
 },
 "nbformat": 4,
 "nbformat_minor": 2
}
