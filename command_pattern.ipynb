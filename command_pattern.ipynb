{
 "cells": [
  {
   "cell_type": "markdown",
   "metadata": {
    "deletable": true,
    "editable": true,
    "slideshow": {
     "slide_type": "slide"
    }
   },
   "source": [
    "## patterns: proxy, observer, command\n",
    "\n",
    "# The Command Pattern"
   ]
  },
  {
   "cell_type": "markdown",
   "metadata": {
    "deletable": true,
    "editable": true,
    "slideshow": {
     "slide_type": "slide"
    }
   },
   "source": [
    "> The command pattern is a behavioral design pattern in which an object is used to encapsulate all information needed to perform an action or trigger an event at a later time. This information includes the method name, the object that owns the method and values for the method parameters.\n",
    "\n",
    "> Four terms always associated with the command pattern are **command**, **receiver**, **invoker** and **client**. \n",
    "\n",
    "1. A command object knows about receiver and invokes a method of the receiver. Values for parameters of the receiver method are stored in the command. The receiver then does the work.\n",
    "2. An invoker object knows how to execute a command, and optionally does bookkeeping about the command execution. \n",
    "3. The invoker does not know anything about a concrete command, it knows only about command interface. Both an invoker object and several command objects are held by a client object. \n",
    "4. The client decides which commands to execute at which points. To execute a command, it passes the command object to the invoker object."
   ]
  },
  {
   "cell_type": "code",
   "execution_count": 1,
   "metadata": {
    "collapsed": true,
    "deletable": true,
    "editable": true,
    "slideshow": {
     "slide_type": "slide"
    }
   },
   "outputs": [],
   "source": [
    "class Command(object):\n",
    "    \"\"\"The COMMAND interface\"\"\"\n",
    "    def __init__(self, obj):\n",
    "        self._obj = obj\n",
    "\n",
    "    def execute(self):\n",
    "        raise NotImplementedError\n",
    "\n",
    "class Switch(object):\n",
    "    \"\"\"The INVOKER class\"\"\"\n",
    "    def __init__(self):\n",
    "        self._history = ()\n",
    "\n",
    "    @property\n",
    "    def history(self):\n",
    "        return self._history\n",
    "\n",
    "    def execute(self, command):\n",
    "        self._history = self._history + (command,)\n",
    "        command.execute()\n",
    "\n",
    "class TurnOnCommand(Command):\n",
    "    \"\"\"The COMMAND for turning on the light\"\"\"\n",
    "    def execute(self):\n",
    "        self._obj.turn_on()\n",
    "    def __repr__(self):\n",
    "        return \"ON\"\n",
    "\n",
    "class TurnOffCommand(Command):\n",
    "    \"\"\"The COMMAND for turning off the light\"\"\"\n",
    "    def execute(self):\n",
    "        self._obj.turn_off()\n",
    "    def __repr__(self):\n",
    "        return \"OFF\"\n",
    "\n",
    "class Light(object):\n",
    "    \"\"\"The RECEIVER class\"\"\"\n",
    "    def turn_on(self):\n",
    "        print(\"The light is on\")\n",
    "\n",
    "    def turn_off(self):\n",
    "        print(\"The light is off\")"
   ]
  },
  {
   "cell_type": "code",
   "execution_count": 2,
   "metadata": {
    "collapsed": true,
    "deletable": true,
    "editable": true,
    "slideshow": {
     "slide_type": "slide"
    }
   },
   "outputs": [],
   "source": [
    "class LightSwitchClient(object):\n",
    "    \"\"\"The CLIENT class\"\"\"\n",
    "    def __init__(self):\n",
    "        self._lamp = Light()\n",
    "        self._switch = Switch()\n",
    "\n",
    "    @property\n",
    "    def switch(self):\n",
    "        return self._switch\n",
    "\n",
    "    def press(self, cmd):\n",
    "        cmd = cmd.strip().upper()\n",
    "        if cmd == \"ON\":\n",
    "            self._switch.execute(TurnOnCommand(self._lamp))\n",
    "        elif cmd == \"OFF\":\n",
    "            self._switch.execute(TurnOffCommand(self._lamp))\n",
    "        else:\n",
    "            print(\"Argument 'ON' or 'OFF' is required.\")"
   ]
  },
  {
   "cell_type": "code",
   "execution_count": 3,
   "metadata": {
    "collapsed": false,
    "deletable": true,
    "editable": true,
    "slideshow": {
     "slide_type": "slide"
    }
   },
   "outputs": [],
   "source": [
    "light_switch = LightSwitchClient()"
   ]
  },
  {
   "cell_type": "code",
   "execution_count": 4,
   "metadata": {
    "collapsed": false,
    "deletable": true,
    "editable": true,
    "slideshow": {
     "slide_type": "slide"
    }
   },
   "outputs": [
    {
     "name": "stdout",
     "output_type": "stream",
     "text": [
      "The light is on\n",
      "The light is off\n"
     ]
    }
   ],
   "source": [
    "light_switch.press(\"ON\")\n",
    "light_switch.press(\"OFF\")"
   ]
  },
  {
   "cell_type": "code",
   "execution_count": 5,
   "metadata": {
    "collapsed": false,
    "deletable": true,
    "editable": true,
    "slideshow": {
     "slide_type": "slide"
    }
   },
   "outputs": [
    {
     "data": {
      "text/plain": [
       "(ON, OFF)"
      ]
     },
     "execution_count": 5,
     "metadata": {},
     "output_type": "execute_result"
    }
   ],
   "source": [
    "light_switch.switch.history"
   ]
  },
  {
   "cell_type": "code",
   "execution_count": 6,
   "metadata": {
    "collapsed": false,
    "deletable": true,
    "editable": true,
    "slideshow": {
     "slide_type": "slide"
    }
   },
   "outputs": [
    {
     "name": "stdout",
     "output_type": "stream",
     "text": [
      "The light is on\n",
      "The light is on\n",
      "The light is on\n"
     ]
    }
   ],
   "source": [
    "light_switch.press(\"ON\")\n",
    "light_switch.press(\"ON\")\n",
    "light_switch.press(\"ON\")"
   ]
  }
 ],
 "metadata": {
  "celltoolbar": "Slideshow",
  "kernelspec": {
   "display_name": "Python 3",
   "language": "python",
   "name": "python3"
  },
  "language_info": {
   "codemirror_mode": {
    "name": "ipython",
    "version": 3
   },
   "file_extension": ".py",
   "mimetype": "text/x-python",
   "name": "python",
   "nbconvert_exporter": "python",
   "pygments_lexer": "ipython3",
   "version": "3.6.0"
  }
 },
 "nbformat": 4,
 "nbformat_minor": 2
}
