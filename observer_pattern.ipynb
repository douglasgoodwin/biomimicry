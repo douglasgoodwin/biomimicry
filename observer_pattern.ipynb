{
 "cells": [
  {
   "cell_type": "markdown",
   "metadata": {
    "deletable": true,
    "editable": true
   },
   "source": [
    "## patterns: proxy, observer, command\n",
    "\n",
    "# The Observer Pattern\n",
    "\n",
    "A group of objects (observers) needs to know when an object (the subject) changes state."
   ]
  },
  {
   "cell_type": "code",
   "execution_count": null,
   "metadata": {
    "collapsed": false,
    "deletable": true,
    "editable": true
   },
   "outputs": [],
   "source": [
    "class Observer:\n",
    "    def __init__(self, name):\n",
    "        self.name = name\n",
    "        print(\"Observer %s is now active!\" %(self.name))\n",
    "\n",
    "    def update(self, topic, message=None):\n",
    "        print('TO: {} TOPIC: {} MESSAGE: {}'.format(self.name, topic, message))\n",
    "\n",
    "        \n",
    "class Subject:\n",
    "    def __init__(self,name):\n",
    "        self.name = name\n",
    "        self.observers = []\n",
    "        print(\"Subject %s is now active!\" %(self.name))\n",
    " \n",
    "    def register(self, observer):\n",
    "        if not observer in self.observers:\n",
    "            self.observers.append(observer)\n",
    "            print(\"Observer %s is watching %s\" %(observer.name, self.name))\n",
    "\n",
    "    def unregister(self, observer):\n",
    "        if observer in self.observers:\n",
    "            self.observers.remove(observer)\n",
    " \n",
    "    def unregister_all(self):\n",
    "        if self.observers:\n",
    "            del self.observers[:]\n",
    " \n",
    "    def update_observer(self, observer, topic, message=None):\n",
    "        if observer in self.observers:\n",
    "            observer.update(topic, message)\n",
    "        else:\n",
    "            print(\"%s doesn't know that observer\" %(self.name))\n",
    "\n",
    "    def update_all(self, topic, message=None):\n",
    "        for observer in self.observers:\n",
    "            observer.update(topic, message)"
   ]
  },
  {
   "cell_type": "code",
   "execution_count": null,
   "metadata": {
    "collapsed": false,
    "deletable": true,
    "editable": true
   },
   "outputs": [],
   "source": [
    "dumbledore = Subject(\"Dumbledore\")"
   ]
  },
  {
   "cell_type": "code",
   "execution_count": null,
   "metadata": {
    "collapsed": false,
    "deletable": true,
    "editable": true
   },
   "outputs": [],
   "source": [
    "dumbledore.update_observer(hermione,\"spell\",\"Expelliarmus\")"
   ]
  },
  {
   "cell_type": "code",
   "execution_count": null,
   "metadata": {
    "collapsed": false,
    "deletable": true,
    "editable": true
   },
   "outputs": [],
   "source": [
    "harry = Observer(\"Harry\")\n",
    "ron = Observer(\"Ron\")\n",
    "hermione = Observer(\"Hermione\")"
   ]
  },
  {
   "cell_type": "code",
   "execution_count": null,
   "metadata": {
    "collapsed": false,
    "deletable": true,
    "editable": true
   },
   "outputs": [],
   "source": [
    "dumbledore.register(harry)\n",
    "dumbledore.register(hermione)\n",
    "dumbledore.register(ron)"
   ]
  },
  {
   "cell_type": "code",
   "execution_count": null,
   "metadata": {
    "collapsed": false,
    "deletable": true,
    "editable": true
   },
   "outputs": [],
   "source": [
    "dumbledore.update_observer(hermione,\"spell\",\"Geminio\")"
   ]
  },
  {
   "cell_type": "code",
   "execution_count": null,
   "metadata": {
    "collapsed": false,
    "deletable": true,
    "editable": true
   },
   "outputs": [],
   "source": [
    "dumbledore.update_observer(harry,\"spell\",\"Impervius\")"
   ]
  },
  {
   "cell_type": "code",
   "execution_count": null,
   "metadata": {
    "collapsed": false,
    "deletable": true,
    "editable": true
   },
   "outputs": [],
   "source": [
    "dumbledore.update_all(\"spell\",\"Expelliarmus\")"
   ]
  },
  {
   "cell_type": "code",
   "execution_count": null,
   "metadata": {
    "collapsed": false,
    "deletable": true,
    "editable": true
   },
   "outputs": [],
   "source": [
    "hewhomustnotbenamed = Subject(\"Voldemort\")"
   ]
  },
  {
   "cell_type": "code",
   "execution_count": null,
   "metadata": {
    "collapsed": false,
    "deletable": true,
    "editable": true
   },
   "outputs": [],
   "source": [
    "hewhomustnotbenamed.register(harry)"
   ]
  },
  {
   "cell_type": "code",
   "execution_count": null,
   "metadata": {
    "collapsed": false,
    "deletable": true,
    "editable": true
   },
   "outputs": [],
   "source": [
    "hewhomustnotbenamed.update_observer(harry,\"spell\",\"Sectumsempra\")"
   ]
  },
  {
   "cell_type": "code",
   "execution_count": null,
   "metadata": {
    "collapsed": false,
    "deletable": true,
    "editable": true
   },
   "outputs": [],
   "source": [
    "dumbledore.update_all(\"lunchtime\")"
   ]
  }
 ],
 "metadata": {
  "kernelspec": {
   "display_name": "Python 3",
   "language": "python",
   "name": "python3"
  },
  "language_info": {
   "codemirror_mode": {
    "name": "ipython",
    "version": 3
   },
   "file_extension": ".py",
   "mimetype": "text/x-python",
   "name": "python",
   "nbconvert_exporter": "python",
   "pygments_lexer": "ipython3",
   "version": "3.6.0"
  }
 },
 "nbformat": 4,
 "nbformat_minor": 2
}
