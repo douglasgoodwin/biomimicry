{
 "cells": [
  {
   "cell_type": "code",
   "execution_count": 1,
   "metadata": {
    "collapsed": true
   },
   "outputs": [],
   "source": [
    "class Implementation(object):\n",
    " \n",
    "    def interface1(self, p1, p2):\n",
    "        print (p1 + \", \" + p2)\n",
    " \n",
    " \n",
    "class Bridge(object):\n",
    " \n",
    "    def __init__(self):\n",
    "        self.impl = Implementation()\n",
    " \n",
    "    def interface2(self, p1, p2, p3):\n",
    "        self.impl.interface1(p1, p2 + \" and \" + p3)"
   ]
  },
  {
   "cell_type": "code",
   "execution_count": 2,
   "metadata": {},
   "outputs": [
    {
     "name": "stdout",
     "output_type": "stream",
     "text": [
      "here, there and everywhere\n"
     ]
    }
   ],
   "source": [
    "Implementation().interface1('here', 'there', 'everywhere')"
   ]
  },
  {
   "cell_type": "code",
   "execution_count": 7,
   "metadata": {},
   "outputs": [
    {
     "name": "stdout",
     "output_type": "stream",
     "text": [
      "here, there\n"
     ]
    }
   ],
   "source": [
    "Bridge().impl.interface1('here', 'there')"
   ]
  },
  {
   "cell_type": "code",
   "execution_count": null,
   "metadata": {
    "collapsed": true
   },
   "outputs": [],
   "source": []
  }
 ],
 "metadata": {
  "kernelspec": {
   "display_name": "Python 2",
   "language": "python",
   "name": "python2"
  },
  "language_info": {
   "codemirror_mode": {
    "name": "ipython",
    "version": 2
   },
   "file_extension": ".py",
   "mimetype": "text/x-python",
   "name": "python",
   "nbconvert_exporter": "python",
   "pygments_lexer": "ipython2",
   "version": "2.7.13"
  }
 },
 "nbformat": 4,
 "nbformat_minor": 2
}
