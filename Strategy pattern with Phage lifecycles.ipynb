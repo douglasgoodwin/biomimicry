{
 "cells": [
  {
   "cell_type": "markdown",
   "metadata": {},
   "source": [
    "# the strategy pattern \n",
    "\n",
    "is a behavioural software design pattern that enables an algorithm's behavior to be selected at runtime. This pattern:\n",
    "\n",
    "1. defines a family of algorithms,\n",
    "2. encapsulates each algorithm, and\n",
    "3. makes the algorithms interchangeable within that family.\n",
    "\n",
    "Strategy lets the algorithm vary independently from clients that use it.[1] Strategy is one of the patterns included in the influential book Design Patterns by Gamma et al. that popularized the concept of using patterns to describe software design.\n",
    "\n",
    "Python supports higher-order functions and allows us to have only one class and inject functions into it's instances, as shown here."
   ]
  },
  {
   "cell_type": "code",
   "execution_count": 168,
   "metadata": {
    "collapsed": true
   },
   "outputs": [],
   "source": [
    "import time, types"
   ]
  },
  {
   "cell_type": "code",
   "execution_count": 169,
   "metadata": {},
   "outputs": [],
   "source": [
    "class BacterioPhage:\n",
    "    def __init__(self, name=\"Charles\", func=None):\n",
    "        self.name = name\n",
    "        self.isHostAlive = True\n",
    "        if func is not None:\n",
    "            msg = \"[%s] ok, I will override my execute method with your function %s().\" %(self.name,func.func_name)\n",
    "            print(msg)\n",
    "            self.execute = types.MethodType(func, self)\n",
    "        else:\n",
    "            msg = \"[%s] Give me a function next time.\" %(self.name)\n",
    "            print(msg)\n",
    "\n",
    "    def execute(self):\n",
    "        msg = \"[%s] I am a bacteriophage!\" %(self.name)\n",
    "        print(msg)\n",
    "\n",
    "    def hostStatus(self):\n",
    "        if self.isHostAlive:\n",
    "            msg = \"[%s] My host is alive!\" %(self.name)\n",
    "        else:\n",
    "            msg = \"[%s] My host is deceased.\" %(self.name)\n",
    "        print(msg)\n",
    "\n",
    "    def stress(self,func):\n",
    "        if self.isHostAlive:\n",
    "            self.execute = types.MethodType(func, self)\n",
    "            msg = \"[%s] you are stressing me out!\" %(self.name)\n",
    "            print(msg)\n",
    "            self.execute()"
   ]
  },
  {
   "cell_type": "code",
   "execution_count": 170,
   "metadata": {
    "collapsed": true
   },
   "outputs": [],
   "source": [
    "def lyticCycle(self):\n",
    "    if (self.isHostAlive == True):\n",
    "        msgs = []\n",
    "        msgs.append(\"Viral gene comandeers the host bacterium to make ingredients for virus\")\n",
    "        msgs.append(\"Viruses  into new viruses self-assemble from parts\")\n",
    "        msgs.append(\"Viruses lyse the bacterium and burst free\")\n",
    "        msgs.append(\"(Host bacterium is killed)\")\n",
    "        self.isHostAlive = False\n",
    "        for m in msgs:\n",
    "            msg = \"[%s] %s\" %(self.name, m)\n",
    "            print(msg)\n",
    "            time.sleep(1)\n",
    "    else:\n",
    "        self.hostStatus()\n",
    "            \n",
    "def lysogenicCycle(self):\n",
    "    if (self.isHostAlive == True):\n",
    "        msgs = []\n",
    "        msgs.append(\"Attach to bacterium...\")\n",
    "        msgs.append(\"Inject DNA...\")\n",
    "        msgs.append(\"Circulate.\")\n",
    "        msgs.append(\"(My DNA will persist in subsequent generations. I am a pirate, arrrrrr!).\")\n",
    "        for m in msgs:\n",
    "            msg = \"[%s] %s\" %(self.name, m)\n",
    "            print(msg)\n",
    "            time.sleep(1)\n",
    "    else:\n",
    "        self.hostStatus()"
   ]
  },
  {
   "cell_type": "code",
   "execution_count": 171,
   "metadata": {},
   "outputs": [
    {
     "name": "stdout",
     "output_type": "stream",
     "text": [
      "[aVirus] Give me a function next time.\n",
      "[ChillVirus] ok, I will override my execute method with your function lysogenicCycle().\n",
      "[TerminitorVirus] ok, I will override my execute method with your function lyticCycle().\n"
     ]
    }
   ],
   "source": [
    "aVirus = BacterioPhage(name=\"aVirus\",func=None)\n",
    "ChillVirus = BacterioPhage(name=\"ChillVirus\",func=lysogenicCycle)\n",
    "TerminitorVirus = BacterioPhage(name=\"TerminitorVirus\",func=lyticCycle)"
   ]
  },
  {
   "cell_type": "code",
   "execution_count": 172,
   "metadata": {},
   "outputs": [
    {
     "name": "stdout",
     "output_type": "stream",
     "text": [
      "[aVirus] I am a bacteriophage!\n",
      "[aVirus] My host is alive!\n"
     ]
    }
   ],
   "source": [
    "aVirus.execute()\n",
    "aVirus.hostStatus()"
   ]
  },
  {
   "cell_type": "code",
   "execution_count": 173,
   "metadata": {},
   "outputs": [
    {
     "name": "stdout",
     "output_type": "stream",
     "text": [
      "[ChillVirus] Attach to bacterium...\n",
      "[ChillVirus] Inject DNA...\n",
      "[ChillVirus] Circulate.\n",
      "[ChillVirus] (My DNA will persist in subsequent generations. I am a pirate, arrrrrr!).\n",
      "[ChillVirus] My host is alive!\n"
     ]
    }
   ],
   "source": [
    "ChillVirus.execute()\n",
    "ChillVirus.hostStatus()"
   ]
  },
  {
   "cell_type": "code",
   "execution_count": 174,
   "metadata": {},
   "outputs": [
    {
     "name": "stdout",
     "output_type": "stream",
     "text": [
      "[TerminitorVirus] Viral gene comandeers the host bacterium to make ingredients for virus\n",
      "[TerminitorVirus] Viruses  into new viruses self-assemble from parts\n",
      "[TerminitorVirus] Viruses lyse the bacterium and burst free\n",
      "[TerminitorVirus] (Host bacterium is killed)\n"
     ]
    }
   ],
   "source": [
    "TerminitorVirus.execute()\n",
    "TerminitorVirus.hostStatus()"
   ]
  },
  {
   "cell_type": "code",
   "execution_count": 175,
   "metadata": {},
   "outputs": [
    {
     "name": "stdout",
     "output_type": "stream",
     "text": [
      "[ChillVirus] you are stressing me out!\n",
      "[ChillVirus] Viral gene comandeers the host bacterium to make ingredients for virus\n",
      "[ChillVirus] Viruses  into new viruses self-assemble from parts\n",
      "[ChillVirus] Viruses lyse the bacterium and burst free\n",
      "[ChillVirus] (Host bacterium is killed)\n",
      "[ChillVirus] My host is deceased.\n"
     ]
    }
   ],
   "source": [
    "ChillVirus.stress(func=lyticCycle)\n",
    "ChillVirus.hostStatus()"
   ]
  },
  {
   "cell_type": "code",
   "execution_count": 176,
   "metadata": {},
   "outputs": [
    {
     "name": "stdout",
     "output_type": "stream",
     "text": [
      "[ChillVirus] My host is deceased.\n"
     ]
    }
   ],
   "source": [
    "ChillVirus.execute()"
   ]
  }
 ],
 "metadata": {
  "kernelspec": {
   "display_name": "Python 2",
   "language": "python",
   "name": "python2"
  },
  "language_info": {
   "codemirror_mode": {
    "name": "ipython",
    "version": 2
   },
   "file_extension": ".py",
   "mimetype": "text/x-python",
   "name": "python",
   "nbconvert_exporter": "python",
   "pygments_lexer": "ipython2",
   "version": "2.7.13"
  }
 },
 "nbformat": 4,
 "nbformat_minor": 2
}
