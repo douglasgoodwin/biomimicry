{
 "cells": [
  {
   "cell_type": "markdown",
   "metadata": {},
   "source": [
    "## patterns: proxy, observer, command\n",
    "\n",
    "# The Proxy Pattern"
   ]
  },
  {
   "cell_type": "markdown",
   "metadata": {},
   "source": [
    "The Proxy design patterns control access to the real object that provides the required functionality. \n",
    "\n",
    "**Example**\n",
    "\n",
    "When production houses want to approach an Actor for a movie, typically, they talk to the Agent and not to the Actor directly. Based on the schedule of the Actor and other engagements, the Agent gets back to the production house on the availability and interest in working in the movie. Now, in this scenario, instead of production houses directly talking to the Actor, the Agent acts as a Proxy that handles all the scheduling & payments for the Actor."
   ]
  },
  {
   "cell_type": "markdown",
   "metadata": {},
   "source": [
    "## Example: Screen actors and their Agent"
   ]
  },
  {
   "cell_type": "code",
   "execution_count": 2,
   "metadata": {
    "collapsed": false
   },
   "outputs": [],
   "source": [
    "class Actor(object):\n",
    "    def __init__(self,name=\"someActor\"):\n",
    "        self.name = name\n",
    "        self.isBusy = False\n",
    "    \n",
    "    def _getStatus(self):\n",
    "        if self.isBusy:\n",
    "            print(type(self).__name__ , self.name, \"says, 'I am booked.'\")\n",
    "        else:\n",
    "            print(type(self).__name__ , self.name, \"says 'I am free!'\")\n",
    "\n",
    "    def book(self):\n",
    "        if self.isBusy is not True:\n",
    "            self.isBusy = True\n",
    "        self._getStatus()\n",
    "\n",
    "    def release(self):\n",
    "        if self.isBusy == True:\n",
    "            self.isBusy = False\n",
    "        self._getStatus()\n",
    "\n",
    "\n",
    "class Agent(object):\n",
    "    def __init__(self,name=\"someAgent\"):\n",
    "        self.name = name\n",
    "        self.__actors = []\n",
    "    \n",
    "    def _isMine(self,anActor):\n",
    "        return (anActor in self.__actors)\n",
    "    \n",
    "\n",
    "    def myActors(self):\n",
    "        for a in self.__actors:\n",
    "            print(a.name)\n",
    "            \n",
    "    def book(self,anActor):\n",
    "        if not self._isMine(anActor):\n",
    "            self.__actors.append(anActor)\n",
    "            print(\"Great,\", type(self).__name__ , self.name, \"now represents\", anActor.name)\n",
    "        anActor.book()\n",
    "    \n",
    "    def release(self,anActor):\n",
    "        if self._isMine(anActor):\n",
    "            anActor.release()\n",
    "        else:\n",
    "            print(\"Sorry,\", type(self).__name__ , self.name, \"does not represent\", anActor.name)"
   ]
  },
  {
   "cell_type": "markdown",
   "metadata": {},
   "source": [
    "## Dick and Jane are actors. Johnnie is an agent. \n",
    "\n",
    "## Johnnie represents Dick. Jane is unrepresented. "
   ]
  },
  {
   "cell_type": "code",
   "execution_count": 3,
   "metadata": {
    "collapsed": false
   },
   "outputs": [],
   "source": [
    "dick = Actor(\"Dick\")\n",
    "jane = Actor(\"Jane\")"
   ]
  },
  {
   "cell_type": "code",
   "execution_count": 4,
   "metadata": {
    "collapsed": false
   },
   "outputs": [
    {
     "name": "stdout",
     "output_type": "stream",
     "text": [
      "Great, Agent Johnnie now represents Dick\n",
      "Actor Dick says, 'I am booked.'\n"
     ]
    }
   ],
   "source": [
    "john = Agent(\"Johnnie\")\n",
    "john.book(dick)"
   ]
  },
  {
   "cell_type": "code",
   "execution_count": 5,
   "metadata": {
    "collapsed": false
   },
   "outputs": [
    {
     "name": "stdout",
     "output_type": "stream",
     "text": [
      "Actor Dick says 'I am free!'\n"
     ]
    }
   ],
   "source": [
    "john.release(dick)"
   ]
  },
  {
   "cell_type": "code",
   "execution_count": 6,
   "metadata": {
    "collapsed": false
   },
   "outputs": [
    {
     "name": "stdout",
     "output_type": "stream",
     "text": [
      "Actor Dick says, 'I am booked.'\n"
     ]
    }
   ],
   "source": [
    "john.book(dick)"
   ]
  },
  {
   "cell_type": "code",
   "execution_count": 7,
   "metadata": {
    "collapsed": false
   },
   "outputs": [
    {
     "name": "stdout",
     "output_type": "stream",
     "text": [
      "Dick\n"
     ]
    }
   ],
   "source": [
    "john.myActors()"
   ]
  },
  {
   "cell_type": "code",
   "execution_count": 8,
   "metadata": {
    "collapsed": false
   },
   "outputs": [
    {
     "name": "stdout",
     "output_type": "stream",
     "text": [
      "Sorry, Agent Johnnie does not represent Jane\n"
     ]
    }
   ],
   "source": [
    "john.release(jane)"
   ]
  },
  {
   "cell_type": "markdown",
   "metadata": {},
   "source": [
    "## Johnnie convinces Jane to join his stable."
   ]
  },
  {
   "cell_type": "code",
   "execution_count": 9,
   "metadata": {
    "collapsed": false
   },
   "outputs": [
    {
     "name": "stdout",
     "output_type": "stream",
     "text": [
      "Great, Agent Johnnie now represents Jane\n",
      "Actor Jane says, 'I am booked.'\n"
     ]
    }
   ],
   "source": [
    "john.book(jane)"
   ]
  },
  {
   "cell_type": "code",
   "execution_count": 10,
   "metadata": {
    "collapsed": false
   },
   "outputs": [
    {
     "name": "stdout",
     "output_type": "stream",
     "text": [
      "Dick\n",
      "Jane\n"
     ]
    }
   ],
   "source": [
    "john.myActors()"
   ]
  },
  {
   "cell_type": "code",
   "execution_count": null,
   "metadata": {
    "collapsed": true
   },
   "outputs": [],
   "source": []
  }
 ],
 "metadata": {
  "kernelspec": {
   "display_name": "Python 3",
   "language": "python",
   "name": "python3"
  },
  "language_info": {
   "codemirror_mode": {
    "name": "ipython",
    "version": 3
   },
   "file_extension": ".py",
   "mimetype": "text/x-python",
   "name": "python",
   "nbconvert_exporter": "python",
   "pygments_lexer": "ipython3",
   "version": "3.6.0"
  }
 },
 "nbformat": 4,
 "nbformat_minor": 2
}
